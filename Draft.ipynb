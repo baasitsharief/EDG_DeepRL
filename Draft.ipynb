{
 "cells": [
  {
   "cell_type": "code",
   "execution_count": 1,
   "metadata": {},
   "outputs": [
    {
     "data": {
      "text/plain": [
       "'4.18.0'"
      ]
     },
     "execution_count": 1,
     "metadata": {},
     "output_type": "execute_result"
    }
   ],
   "source": [
    "import transformers\n",
    "\n",
    "transformers.__version__"
   ]
  },
  {
   "cell_type": "code",
   "execution_count": 1,
   "metadata": {},
   "outputs": [],
   "source": [
    "import numpy as np\n",
    "import torch\n",
    "import pandas\n",
    "\n",
    "torch.cuda.empty_cache()"
   ]
  },
  {
   "cell_type": "code",
   "execution_count": null,
   "metadata": {
    "collapsed": true
   },
   "outputs": [],
   "source": [
    "from src.rewards import *"
   ]
  },
  {
   "cell_type": "code",
   "execution_count": 9,
   "metadata": {},
   "outputs": [],
   "source": [
    "from transformers import GPT2PreTrainedModel, GPT2Model\n",
    "from transformers import GPT2Tokenizer\n",
    "from transformers import PYTORCH_PRETRAINED_BERT_CACHE, cached_path\n",
    "from transformers import GPT2Config, GPT2Model, GPT2Config\n",
    "from transformers import GPT2Tokenizer, GPT2LMHeadModel"
   ]
  },
  {
   "cell_type": "code",
   "execution_count": 10,
   "metadata": {},
   "outputs": [],
   "source": [
    "tokenizer = GPT2Tokenizer.from_pretrained('gpt2')\n",
    "model = GPT2LMHeadModel.from_pretrained('gpt2')"
   ]
  },
  {
   "cell_type": "code",
   "execution_count": 11,
   "metadata": {},
   "outputs": [
    {
     "data": {
      "text/html": [
       "<div>\n",
       "<style scoped>\n",
       "    .dataframe tbody tr th:only-of-type {\n",
       "        vertical-align: middle;\n",
       "    }\n",
       "\n",
       "    .dataframe tbody tr th {\n",
       "        vertical-align: top;\n",
       "    }\n",
       "\n",
       "    .dataframe thead th {\n",
       "        text-align: right;\n",
       "    }\n",
       "</style>\n",
       "<table border=\"1\" class=\"dataframe\">\n",
       "  <thead>\n",
       "    <tr style=\"text-align: right;\">\n",
       "      <th></th>\n",
       "      <th>id</th>\n",
       "      <th>seeker_post</th>\n",
       "      <th>response_post</th>\n",
       "      <th>level</th>\n",
       "      <th>rationale_labels</th>\n",
       "      <th>rationale_labels_trimmed</th>\n",
       "      <th>response_post_masked</th>\n",
       "    </tr>\n",
       "  </thead>\n",
       "  <tbody>\n",
       "    <tr>\n",
       "      <th>3079</th>\n",
       "      <td>8jltcy_dz0kvhi</td>\n",
       "      <td>does anyone else keep forgetting stuff the nee...</td>\n",
       "      <td>All day, every day. It's definitely not just y...</td>\n",
       "      <td>1</td>\n",
       "      <td>0,0,0,0,0,0,0,0,0,0,0,0,0,0,0,0,0,0,0,0,0,0,0,...</td>\n",
       "      <td>35</td>\n",
       "      <td>All day, every day. It's definitely not just y...</td>\n",
       "    </tr>\n",
       "    <tr>\n",
       "      <th>3080</th>\n",
       "      <td>94xc3o_e3ok8c0</td>\n",
       "      <td>What does depression feel like?. Honest questi...</td>\n",
       "      <td>like being stuck in a black hole. At times you...</td>\n",
       "      <td>0</td>\n",
       "      <td>0,1,1,1,1,1,1,1,1,1,1,1,1,1,1,1,1,1,1,1,1,1,1,...</td>\n",
       "      <td>117</td>\n",
       "      <td>NaN</td>\n",
       "    </tr>\n",
       "    <tr>\n",
       "      <th>3081</th>\n",
       "      <td>3zbq8e_cykvlsj</td>\n",
       "      <td>I'm to scared to commit suicide.. All I can fe...</td>\n",
       "      <td>I probably would have considered bringing harm...</td>\n",
       "      <td>0</td>\n",
       "      <td>0,1,1,1,1,1,1,1,1,1,1,1,1,1,1,1,1,1,1,1,1,1,1,...</td>\n",
       "      <td>125</td>\n",
       "      <td>NaN</td>\n",
       "    </tr>\n",
       "    <tr>\n",
       "      <th>3082</th>\n",
       "      <td>5kpp98_dbpqi2p</td>\n",
       "      <td>I just want to disappear but I don't want to h...</td>\n",
       "      <td>People barely notice me too</td>\n",
       "      <td>0</td>\n",
       "      <td>0,1,1,1,1,1,1,0,0,0,0,0,0,0,0,0,0,0,0,0,0,0,0,...</td>\n",
       "      <td>11</td>\n",
       "      <td>NaN</td>\n",
       "    </tr>\n",
       "    <tr>\n",
       "      <th>3083</th>\n",
       "      <td>7gqrti_dqz05c5</td>\n",
       "      <td>26 year old male, living at home, low income j...</td>\n",
       "      <td>I see what you mean, but imagine being 26, liv...</td>\n",
       "      <td>0</td>\n",
       "      <td>0,1,1,1,1,1,1,1,1,1,1,1,1,1,1,1,1,1,1,1,1,1,1,...</td>\n",
       "      <td>125</td>\n",
       "      <td>NaN</td>\n",
       "    </tr>\n",
       "  </tbody>\n",
       "</table>\n",
       "</div>"
      ],
      "text/plain": [
       "                  id                                        seeker_post  \\\n",
       "3079  8jltcy_dz0kvhi  does anyone else keep forgetting stuff the nee...   \n",
       "3080  94xc3o_e3ok8c0  What does depression feel like?. Honest questi...   \n",
       "3081  3zbq8e_cykvlsj  I'm to scared to commit suicide.. All I can fe...   \n",
       "3082  5kpp98_dbpqi2p  I just want to disappear but I don't want to h...   \n",
       "3083  7gqrti_dqz05c5  26 year old male, living at home, low income j...   \n",
       "\n",
       "                                          response_post  level  \\\n",
       "3079  All day, every day. It's definitely not just y...      1   \n",
       "3080  like being stuck in a black hole. At times you...      0   \n",
       "3081  I probably would have considered bringing harm...      0   \n",
       "3082                        People barely notice me too      0   \n",
       "3083  I see what you mean, but imagine being 26, liv...      0   \n",
       "\n",
       "                                       rationale_labels  \\\n",
       "3079  0,0,0,0,0,0,0,0,0,0,0,0,0,0,0,0,0,0,0,0,0,0,0,...   \n",
       "3080  0,1,1,1,1,1,1,1,1,1,1,1,1,1,1,1,1,1,1,1,1,1,1,...   \n",
       "3081  0,1,1,1,1,1,1,1,1,1,1,1,1,1,1,1,1,1,1,1,1,1,1,...   \n",
       "3082  0,1,1,1,1,1,1,0,0,0,0,0,0,0,0,0,0,0,0,0,0,0,0,...   \n",
       "3083  0,1,1,1,1,1,1,1,1,1,1,1,1,1,1,1,1,1,1,1,1,1,1,...   \n",
       "\n",
       "      rationale_labels_trimmed  \\\n",
       "3079                        35   \n",
       "3080                       117   \n",
       "3081                       125   \n",
       "3082                        11   \n",
       "3083                       125   \n",
       "\n",
       "                                   response_post_masked  \n",
       "3079  All day, every day. It's definitely not just y...  \n",
       "3080                                                NaN  \n",
       "3081                                                NaN  \n",
       "3082                                                NaN  \n",
       "3083                                                NaN  "
      ]
     },
     "execution_count": 11,
     "metadata": {},
     "output_type": "execute_result"
    }
   ],
   "source": [
    "data = pandas.read_csv(\"..\\\\Empathy-Mental-Health\\\\dataset\\\\emotional-reactions-reddit-output.csv\")\n",
    "data.tail()"
   ]
  },
  {
   "cell_type": "code",
   "execution_count": 2,
   "metadata": {},
   "outputs": [],
   "source": [
    "def calc_reward(seeker_posts, original_responses, generated_responses):\n",
    "    '''\n",
    "    TO BE IMPLEMENTED-\n",
    "\n",
    "    Given sentence and response calculate the reward.\n",
    "    '''\n",
    "    emp_score = calc_empathy_score(seeker_posts, generated_responses)\n",
    "    coh_score = calc_coherence_score(original_responses, generated_responses)\n",
    "    flow_score = informationFlow(generated_responses)\n",
    "    jacc_score = edit_level_jaccard(original_responses, generated_responses)\n",
    "\n",
    "    return 0.4*emp_score + 0.2*coh_score + 0.1*flow_score + 0.1*jacc_score"
   ]
  },
  {
   "cell_type": "code",
   "execution_count": null,
   "metadata": {},
   "outputs": [],
   "source": [
    "def preprocess(list_sentences):\n",
    "    '''\n",
    "    TO BE IMPLEMENTED-\n",
    "    \n",
    "    Preprocess list of sentences to be put into the agent to predict response. Add required tokens into the sentence for model input.\n",
    "    '''\n",
    "    pass"
   ]
  },
  {
   "cell_type": "code",
   "execution_count": 13,
   "metadata": {},
   "outputs": [],
   "source": [
    "class Conversation:\n",
    "\n",
    "    def __init__(self, seq_gen):\n",
    "        self.seq_gen = seq_gen\n",
    "        self.history = list()\n",
    "\n",
    "    def step(self, sentence):\n",
    "        self.history.append(sentence)\n",
    "        input = preprocess(self.history)\n",
    "        response = self.seq_gen.predict(input)\n",
    "        reward = calc_reward(sentence, response)\n",
    "        self.history.append(response)\n",
    "        return reward, response\n",
    "    \n",
    "    def train(self, seq_gen, episodes = 100, lr=0.001, batch_size = 32, seed = 10):\n",
    "        pass\n",
    "\n",
    "    def render(self):\n",
    "        for i, sentence in enumerate(self.history):\n",
    "            if(i%2==0):\n",
    "                print(f\"You: {sentence}\")\n",
    "            else:\n",
    "                print(f\"Bot: {sentence}\")\n"
   ]
  }
 ],
 "metadata": {
  "kernelspec": {
   "display_name": "Python 3",
   "language": "python",
   "name": "python3"
  },
  "language_info": {
   "codemirror_mode": {
    "name": "ipython",
    "version": 3
   },
   "file_extension": ".py",
   "mimetype": "text/x-python",
   "name": "python",
   "nbconvert_exporter": "python",
   "pygments_lexer": "ipython3",
   "version": "3.7.11"
  }
 },
 "nbformat": 4,
 "nbformat_minor": 2
}
